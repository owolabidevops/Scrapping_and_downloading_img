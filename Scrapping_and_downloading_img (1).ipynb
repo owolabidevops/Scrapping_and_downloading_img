{
 "cells": [
  {
   "cell_type": "code",
   "execution_count": 3,
   "id": "bcc4548c-4eb2-4b8a-a9c0-916d80959745",
   "metadata": {},
   "outputs": [],
   "source": [
    "import requests\n",
    "from bs4 import BeautifulSoup"
   ]
  },
  {
   "cell_type": "code",
   "execution_count": 5,
   "id": "6691d20c-9a2b-4b9e-a3d7-0216f04444d5",
   "metadata": {},
   "outputs": [],
   "source": [
    "site_map = 'http://www.pngmart.com/sitemapindex.xml/'\n",
    "response = requests.get(site_map)\n",
    "xml      =response.text\n",
    "soup     = BeautifulSoup(xml,'xml')"
   ]
  },
  {
   "cell_type": "code",
   "execution_count": null,
   "id": "a71613f5-2bc9-4d79-8aa8-35b55ab48ade",
   "metadata": {},
   "outputs": [],
   "source": [
    "site_maps = []\n",
    "for loc in soup.find_all('loc'):\n",
    "    url = loc.text\n",
    "    if 'part' in url:\n",
    "        print(loc.text)\n",
    "        site_maps.append(url)"
   ]
  },
  {
   "cell_type": "code",
   "execution_count": null,
   "id": "0d09de89-d657-4b51-8a95-c96bf583a609",
   "metadata": {},
   "outputs": [],
   "source": [
    "site_map_1 = site_maps[0]"
   ]
  },
  {
   "cell_type": "code",
   "execution_count": null,
   "id": "24046a70-ded6-4d57-8967-7f0ffd272c47",
   "metadata": {},
   "outputs": [],
   "source": [
    "response = requests.get(site_map_1)"
   ]
  },
  {
   "cell_type": "code",
   "execution_count": 7,
   "id": "27c59c84-4283-4ff5-a8ea-d07baf9b19ec",
   "metadata": {},
   "outputs": [],
   "source": [
    "soup = BeautifulSoup(response.text,'xml')"
   ]
  },
  {
   "cell_type": "code",
   "execution_count": null,
   "id": "8aebd82b-3649-4180-8dd6-e1e87dd3ce54",
   "metadata": {},
   "outputs": [],
   "source": [
    "my_list=[]\n",
    "for loc in soup.find_all('loc'):\n",
    "    url = loc.text\n",
    "    my_list.append(url)\n",
    "    "
   ]
  },
  {
   "cell_type": "code",
   "execution_count": null,
   "id": "2d4c71dd-b811-4f37-b528-95a02325dc36",
   "metadata": {},
   "outputs": [],
   "source": [
    "for image_url in my_list[0:10]:\n",
    "    print(image_url)\n",
    "    response    = requests.get(image_url)\n",
    "    soup        = BeautifulSoup(response.text,'html.parser')\n",
    "    image       = requests.get(png_url)\n",
    "    png_url     = soup.find('a',{'class':'download'})['href']\n",
    "    image_title = image_url.split('/')[-1]+'-'+png_url.split('/')[-1]\n",
    "    \n",
    "    with open(image_title,'wb') as file:\n",
    "         file.write(image.content)\n",
    "    break\n",
    "    "
   ]
  },
  {
   "cell_type": "code",
   "execution_count": null,
   "id": "4cc4dfe2-f345-4971-92b2-70b0f4ad7f7a",
   "metadata": {},
   "outputs": [],
   "source": []
  },
  {
   "cell_type": "code",
   "execution_count": null,
   "id": "87299535-03ce-44b5-92a8-a2e4c9eb05eb",
   "metadata": {},
   "outputs": [],
   "source": []
  },
  {
   "cell_type": "code",
   "execution_count": null,
   "id": "b6c3179a-9d7b-4a5f-9f66-505a2126b7b5",
   "metadata": {},
   "outputs": [],
   "source": []
  },
  {
   "cell_type": "code",
   "execution_count": null,
   "id": "a0ca09b7-353c-483b-be63-75309434faa4",
   "metadata": {},
   "outputs": [],
   "source": []
  }
 ],
 "metadata": {
  "kernelspec": {
   "display_name": "Python 3 (ipykernel)",
   "language": "python",
   "name": "python3"
  },
  "language_info": {
   "codemirror_mode": {
    "name": "ipython",
    "version": 3
   },
   "file_extension": ".py",
   "mimetype": "text/x-python",
   "name": "python",
   "nbconvert_exporter": "python",
   "pygments_lexer": "ipython3",
   "version": "3.12.4"
  }
 },
 "nbformat": 4,
 "nbformat_minor": 5
}
